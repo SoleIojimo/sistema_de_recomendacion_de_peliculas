{
 "cells": [
  {
   "cell_type": "markdown",
   "metadata": {},
   "source": [
    "# Proyecto Sistemas de recomendación"
   ]
  },
  {
   "cell_type": "markdown",
   "metadata": {},
   "source": [
    "## Dataset"
   ]
  },
  {
   "cell_type": "markdown",
   "metadata": {},
   "source": [
    "El dataset que vamos a usar en este proyecto es el del proyecto [MovieLens](http://grouplens.org/datasets/movielens/). Estos son relevados por el grupo de investigación GroupLens de la Universidad de Minnesota. Vamos a usar la versión 100K."
   ]
  },
  {
   "cell_type": "markdown",
   "metadata": {},
   "source": [
    "Está basado en un sistema de rating de 5 estrellas y texto libre para tags a partir del servicio de recomendaciones MovieLens. Contiene 100.000 ratings para 1.682 películas. Los datos fueron creados por 943 usuarios."
   ]
  },
  {
   "cell_type": "markdown",
   "metadata": {},
   "source": [
    "### Ratings (u.data)\n",
    "\n",
    "Cada línea representa el rating para una película para un usuario. Los ratings están basados en un sistema de 5 estrellas, con una salto de 0.5 estrellas. Los timestamps están expresados en segundos desde la medianoche de 01/1970 (UTC). El formato es:\n",
    "\n",
    "`user id | item id | rating | timestamp`"
   ]
  },
  {
   "cell_type": "markdown",
   "metadata": {},
   "source": [
    "### Usuarios (u.users)\n",
    "\n",
    "Cada línea del archivo representa un usuario. Se incluye información demográfica. El formato es:\n",
    "\n",
    "`user id | age | gender | occupation | zip code`"
   ]
  },
  {
   "cell_type": "markdown",
   "metadata": {},
   "source": [
    "### Películas (u.item)\n",
    "\n",
    "Cada línea corresponde a una película. Puede haber inconsistencias en los nombres. El formato es:\n",
    "\n",
    "`movie id | movie title | release date | video release date | IMDb URL | generos`\n",
    "\n",
    "\n",
    "\n",
    "Las columnas con los generos son binarias indicando la presencia o ausencia de cada uno en la película. Los géneros pueden ser:\n",
    "\n",
    "* Action\n",
    "* Adventure\n",
    "* Animation\n",
    "* Children's\n",
    "* Comedy\n",
    "* Crime\n",
    "* Documentary\n",
    "* Drama\n",
    "* Fantasy\n",
    "* Film-Noir\n",
    "* Horror\n",
    "* Musical\n",
    "* Mystery\n",
    "* Romance\n",
    "* Sci-Fi\n",
    "* Thriller\n",
    "* War\n",
    "* Western\n",
    "* unknown"
   ]
  },
  {
   "cell_type": "markdown",
   "metadata": {},
   "source": [
    "## Experimentación"
   ]
  },
  {
   "cell_type": "markdown",
   "metadata": {},
   "source": [
    "Durante todo este proyecto vamos a utilizar la librería `surprise` para llevar a cabo las experimentaciones."
   ]
  },
  {
   "cell_type": "markdown",
   "metadata": {},
   "source": [
    "En primer lugar, importamos las librerias y definamos el formato para poder leer los datos."
   ]
  },
  {
   "cell_type": "code",
   "execution_count": 3,
   "metadata": {},
   "outputs": [],
   "source": [
    "from surprise import Dataset\n",
    "from surprise import Reader"
   ]
  },
  {
   "cell_type": "code",
   "execution_count": 4,
   "metadata": {},
   "outputs": [],
   "source": [
    "#Se guardan en la variable reader el parámetro line_format igual a 'user item rating timestamp' y sep como '\\t'\n",
    "reader = Reader(line_format='user item rating timestamp', sep='\\t') "
   ]
  },
  {
   "cell_type": "markdown",
   "metadata": {},
   "source": [
    "Utilizando este `reader` cargar los datos:"
   ]
  },
  {
   "cell_type": "code",
   "execution_count": 5,
   "metadata": {},
   "outputs": [],
   "source": [
    "data = Dataset.load_from_file('C:\\\\Users\\\\soled\\\\Documents\\\\ds-proyectos\\\\sistema_de_recomendacion_de_peliculas\\\\ml-100k\\\\u.data', reader=reader)"
   ]
  },
  {
   "cell_type": "code",
   "execution_count": 7,
   "metadata": {},
   "outputs": [
    {
     "name": "stdout",
     "output_type": "stream",
     "text": [
      "Evaluating RMSE of algorithm SVD on 5 split(s).\n",
      "\n",
      "                  Fold 1  Fold 2  Fold 3  Fold 4  Fold 5  Mean    Std     \n",
      "RMSE (testset)    0.9352  0.9356  0.9368  0.9445  0.9256  0.9356  0.0060  \n",
      "Fit time          11.38   10.66   10.51   10.67   10.53   10.75   0.32    \n",
      "Test time         0.35    0.31    0.37    0.30    0.30    0.33    0.03    \n"
     ]
    }
   ],
   "source": [
    "#Se ejecuta una corrida inicial usando cross validation y el algoritmo SVD (5 folds), imprimiento los RMSE de testing\n",
    "from surprise import SVD\n",
    "from surprise.model_selection import cross_validate\n",
    "\n",
    "algo = SVD() #Algoritmo\n",
    "cv = cross_validate(algo, data, measures=['RMSE'], cv=5, verbose=True) \n",
    "#usamos el SVD. Asignamos el algoritmo(algo), el dataset, la metrica que queremos calcular(RMSE), Asignamos el cv=5 y verbose true para saber lo que esta sucediendo.\n"
   ]
  },
  {
   "cell_type": "code",
   "execution_count": 8,
   "metadata": {},
   "outputs": [],
   "source": [
    "#Se evaluara el RMSE (promedio de cross validation) de testing considerando 5 factores en SVD\n",
    "import numpy as np\n",
    "rmse_test_means = []\n",
    "\n",
    "factors = [5,100,200]\n",
    "for factor in factors:\n",
    "    algo = SVD(n_factors=factor)\n",
    "    cv = cross_validate(algo, data, measures=['RMSE'],  cv=5, verbose=False)\n",
    "    rmse_test_means.append(np.mean(cv['test_rmse']))"
   ]
  },
  {
   "cell_type": "code",
   "execution_count": 9,
   "metadata": {},
   "outputs": [
    {
     "data": {
      "image/png": "[encoded data removed]",
      "text/plain": [
       "<Figure size 432x288 with 1 Axes>"
      ]
     },
     "metadata": {
      "needs_background": "light"
     },
     "output_type": "display_data"
    }
   ],
   "source": [
    "#Graficamos utilizando Matplotlib, los promedio RMSE del conjunto de testing considerando 5 factores en SVD\n",
    "import matplotlib.pyplot as plt \n",
    "%matplotlib inline \n",
    "plt.plot(factors, rmse_test_means, label='RMSE Testing')\n",
    "plt.ylim((0.92, 1.0))\n",
    "plt.legend(loc=\"best\")\n",
    "plt.title(\"RMSE para algoritmo SVD según cantidad de factores.\")\n",
    "plt.show()"
   ]
  },
  {
   "cell_type": "markdown",
   "metadata": {},
   "source": [
    "Para encontrar el mejor estimador usando SVD con 500 factores, se utilizara GrdSearch.\n",
    "Se imprime el mejor RMSE.\n",
    "Se utiliza 'fefit' para obtener el mejor estimador ya ajustado como resultado\n",
    "\n",
    "Utilizar el espacio de parámetros:\n",
    "* n_epochs: [5, 10]\n",
    "* lr_all: [0.002, 0.005]\n",
    "* reg_all: [0.4, 0.6]\n"
   ]
  },
  {
   "cell_type": "code",
   "execution_count": 10,
   "metadata": {},
   "outputs": [],
   "source": [
    "from surprise.model_selection import GridSearchCV #Cargamos el GridSearch CV a partir del model_selection del modulo surprise\n",
    "\n",
    "data = Dataset.load_builtin('ml-100k') #cargamos los 100 mil revius\n",
    "\n",
    "param_grid = {'n_factors': [1,25,502],'n_epochs': [5, 10], 'lr_all': [0.002, 0.005], #Cargamos los parametros que queremos recorrer con GrindSearch para seleccionar los mejores parametros\n",
    "              'reg_all': [0.4, 0.6]}\n",
    "gs = GridSearchCV(SVD, param_grid, measures=['rmse'], cv=5, refit=True) #Utilizamos el algoritmo de SVD, recorremos los parametros asignados tomando RMSE Y MAE\n",
    "\n",
    "gs.fit(data) #Itera cruzando todos los parametros hasta encontrar los mejores"
   ]
  },
  {
   "cell_type": "code",
   "execution_count": 11,
   "metadata": {},
   "outputs": [
    {
     "name": "stdout",
     "output_type": "stream",
     "text": [
      "{'n_factors': 1, 'n_epochs': 10, 'lr_all': 0.005, 'reg_all': 0.4}\n"
     ]
    }
   ],
   "source": [
    "print(gs.best_params['rmse']) #Imprimos por pantalla el mejor parametro de RMSE"
   ]
  },
  {
   "cell_type": "code",
   "execution_count": 12,
   "metadata": {},
   "outputs": [
    {
     "name": "stdout",
     "output_type": "stream",
     "text": [
      "0.9616954813594581\n"
     ]
    }
   ],
   "source": [
    "print(gs.best_score['rmse']) #Imprimos por pantalla el mejor score de RMSE"
   ]
  },
  {
   "cell_type": "markdown",
   "metadata": {},
   "source": [
    "__¿Como obtener una prediccion para el usuario 321 para la película Titanic?__"
   ]
  },
  {
   "cell_type": "code",
   "execution_count": 14,
   "metadata": {},
   "outputs": [
    {
     "data": {
      "text/html": [
       "<div>\n",
       "<style scoped>\n",
       "    .dataframe tbody tr th:only-of-type {\n",
       "        vertical-align: middle;\n",
       "    }\n",
       "\n",
       "    .dataframe tbody tr th {\n",
       "        vertical-align: top;\n",
       "    }\n",
       "\n",
       "    .dataframe thead th {\n",
       "        text-align: right;\n",
       "    }\n",
       "</style>\n",
       "<table border=\"1\" class=\"dataframe\">\n",
       "  <thead>\n",
       "    <tr style=\"text-align: right;\">\n",
       "      <th></th>\n",
       "      <th>movie_id</th>\n",
       "      <th>movie_title</th>\n",
       "      <th>release_date</th>\n",
       "      <th>video_release_date</th>\n",
       "      <th>IMDb_URL</th>\n",
       "      <th>Action</th>\n",
       "      <th>Adventure</th>\n",
       "      <th>Animation</th>\n",
       "      <th>Childrens</th>\n",
       "      <th>Comedy</th>\n",
       "      <th>...</th>\n",
       "      <th>Film-Noir</th>\n",
       "      <th>Horror</th>\n",
       "      <th>Musical</th>\n",
       "      <th>Mystery</th>\n",
       "      <th>Romance</th>\n",
       "      <th>Sci-Fi</th>\n",
       "      <th>Thriller</th>\n",
       "      <th>War</th>\n",
       "      <th>Western</th>\n",
       "      <th>unknown</th>\n",
       "    </tr>\n",
       "  </thead>\n",
       "  <tbody>\n",
       "    <tr>\n",
       "      <th>0</th>\n",
       "      <td>1</td>\n",
       "      <td>Toy Story (1995)</td>\n",
       "      <td>01-Jan-1995</td>\n",
       "      <td>NaN</td>\n",
       "      <td>http://us.imdb.com/M/title-exact?Toy%20Story%2...</td>\n",
       "      <td>0</td>\n",
       "      <td>0</td>\n",
       "      <td>0</td>\n",
       "      <td>1</td>\n",
       "      <td>1</td>\n",
       "      <td>...</td>\n",
       "      <td>0</td>\n",
       "      <td>0</td>\n",
       "      <td>0</td>\n",
       "      <td>0</td>\n",
       "      <td>0</td>\n",
       "      <td>0</td>\n",
       "      <td>0</td>\n",
       "      <td>0</td>\n",
       "      <td>0</td>\n",
       "      <td>0</td>\n",
       "    </tr>\n",
       "    <tr>\n",
       "      <th>1</th>\n",
       "      <td>2</td>\n",
       "      <td>GoldenEye (1995)</td>\n",
       "      <td>01-Jan-1995</td>\n",
       "      <td>NaN</td>\n",
       "      <td>http://us.imdb.com/M/title-exact?GoldenEye%20(...</td>\n",
       "      <td>0</td>\n",
       "      <td>1</td>\n",
       "      <td>1</td>\n",
       "      <td>0</td>\n",
       "      <td>0</td>\n",
       "      <td>...</td>\n",
       "      <td>0</td>\n",
       "      <td>0</td>\n",
       "      <td>0</td>\n",
       "      <td>0</td>\n",
       "      <td>0</td>\n",
       "      <td>0</td>\n",
       "      <td>0</td>\n",
       "      <td>1</td>\n",
       "      <td>0</td>\n",
       "      <td>0</td>\n",
       "    </tr>\n",
       "    <tr>\n",
       "      <th>2</th>\n",
       "      <td>3</td>\n",
       "      <td>Four Rooms (1995)</td>\n",
       "      <td>01-Jan-1995</td>\n",
       "      <td>NaN</td>\n",
       "      <td>http://us.imdb.com/M/title-exact?Four%20Rooms%...</td>\n",
       "      <td>0</td>\n",
       "      <td>0</td>\n",
       "      <td>0</td>\n",
       "      <td>0</td>\n",
       "      <td>0</td>\n",
       "      <td>...</td>\n",
       "      <td>0</td>\n",
       "      <td>0</td>\n",
       "      <td>0</td>\n",
       "      <td>0</td>\n",
       "      <td>0</td>\n",
       "      <td>0</td>\n",
       "      <td>0</td>\n",
       "      <td>1</td>\n",
       "      <td>0</td>\n",
       "      <td>0</td>\n",
       "    </tr>\n",
       "    <tr>\n",
       "      <th>3</th>\n",
       "      <td>4</td>\n",
       "      <td>Get Shorty (1995)</td>\n",
       "      <td>01-Jan-1995</td>\n",
       "      <td>NaN</td>\n",
       "      <td>http://us.imdb.com/M/title-exact?Get%20Shorty%...</td>\n",
       "      <td>0</td>\n",
       "      <td>1</td>\n",
       "      <td>0</td>\n",
       "      <td>0</td>\n",
       "      <td>0</td>\n",
       "      <td>...</td>\n",
       "      <td>0</td>\n",
       "      <td>0</td>\n",
       "      <td>0</td>\n",
       "      <td>0</td>\n",
       "      <td>0</td>\n",
       "      <td>0</td>\n",
       "      <td>0</td>\n",
       "      <td>0</td>\n",
       "      <td>0</td>\n",
       "      <td>0</td>\n",
       "    </tr>\n",
       "    <tr>\n",
       "      <th>4</th>\n",
       "      <td>5</td>\n",
       "      <td>Copycat (1995)</td>\n",
       "      <td>01-Jan-1995</td>\n",
       "      <td>NaN</td>\n",
       "      <td>http://us.imdb.com/M/title-exact?Copycat%20(1995)</td>\n",
       "      <td>0</td>\n",
       "      <td>0</td>\n",
       "      <td>0</td>\n",
       "      <td>0</td>\n",
       "      <td>0</td>\n",
       "      <td>...</td>\n",
       "      <td>0</td>\n",
       "      <td>0</td>\n",
       "      <td>0</td>\n",
       "      <td>0</td>\n",
       "      <td>0</td>\n",
       "      <td>0</td>\n",
       "      <td>0</td>\n",
       "      <td>1</td>\n",
       "      <td>0</td>\n",
       "      <td>0</td>\n",
       "    </tr>\n",
       "  </tbody>\n",
       "</table>\n",
       "<p>5 rows × 24 columns</p>\n",
       "</div>"
      ],
      "text/plain": [
       "   movie_id        movie_title release_date  video_release_date  \\\n",
       "0         1   Toy Story (1995)  01-Jan-1995                 NaN   \n",
       "1         2   GoldenEye (1995)  01-Jan-1995                 NaN   \n",
       "2         3  Four Rooms (1995)  01-Jan-1995                 NaN   \n",
       "3         4  Get Shorty (1995)  01-Jan-1995                 NaN   \n",
       "4         5     Copycat (1995)  01-Jan-1995                 NaN   \n",
       "\n",
       "                                            IMDb_URL  Action  Adventure  \\\n",
       "0  http://us.imdb.com/M/title-exact?Toy%20Story%2...       0          0   \n",
       "1  http://us.imdb.com/M/title-exact?GoldenEye%20(...       0          1   \n",
       "2  http://us.imdb.com/M/title-exact?Four%20Rooms%...       0          0   \n",
       "3  http://us.imdb.com/M/title-exact?Get%20Shorty%...       0          1   \n",
       "4  http://us.imdb.com/M/title-exact?Copycat%20(1995)       0          0   \n",
       "\n",
       "   Animation  Childrens  Comedy  ...  Film-Noir  Horror  Musical  Mystery  \\\n",
       "0          0          1       1  ...          0       0        0        0   \n",
       "1          1          0       0  ...          0       0        0        0   \n",
       "2          0          0       0  ...          0       0        0        0   \n",
       "3          0          0       0  ...          0       0        0        0   \n",
       "4          0          0       0  ...          0       0        0        0   \n",
       "\n",
       "   Romance  Sci-Fi  Thriller  War  Western  unknown  \n",
       "0        0       0         0    0        0        0  \n",
       "1        0       0         0    1        0        0  \n",
       "2        0       0         0    1        0        0  \n",
       "3        0       0         0    0        0        0  \n",
       "4        0       0         0    1        0        0  \n",
       "\n",
       "[5 rows x 24 columns]"
      ]
     },
     "execution_count": 14,
     "metadata": {},
     "output_type": "execute_result"
    }
   ],
   "source": [
    "#Levantar u.item y buscar titanic\n",
    "import pandas as pd\n",
    "\n",
    "colum_names = ['movie_id', \"movie_title\", \"release_date\", \"video_release_date\" ,\"IMDb_URL\", 'Action', \"Adventure\", \"Animation\", \"Childrens\", \"Comedy\", \"Crime\", \"Documentary\", \"Drama\", \"Fantasy\", \"Film-Noir\", \"Horror\", \"Musical\", \"Mystery\", \"Romance\", \"Sci-Fi\", \"Thriller\", \"War\", \"Western\", \"unknown\"]\n",
    "\n",
    "peliculas = pd.read_csv('C:\\\\Users\\\\soled\\\\Desktop\\\\Acamica\\\\Codigo\\\\Clase Acamica\\\\Entregas\\\\entrega6_Sistema_de_Recomendacion\\\\ml-100k\\\\u.item',\n",
    "                        header = None,\n",
    "                        names = colum_names,\n",
    "                        encoding = 'ISO-8859-1', \n",
    "                        sep = '|')\n",
    "peliculas.head()"
   ]
  },
  {
   "cell_type": "code",
   "execution_count": 15,
   "metadata": {},
   "outputs": [
    {
     "data": {
      "text/html": [
       "<div>\n",
       "<style scoped>\n",
       "    .dataframe tbody tr th:only-of-type {\n",
       "        vertical-align: middle;\n",
       "    }\n",
       "\n",
       "    .dataframe tbody tr th {\n",
       "        vertical-align: top;\n",
       "    }\n",
       "\n",
       "    .dataframe thead th {\n",
       "        text-align: right;\n",
       "    }\n",
       "</style>\n",
       "<table border=\"1\" class=\"dataframe\">\n",
       "  <thead>\n",
       "    <tr style=\"text-align: right;\">\n",
       "      <th></th>\n",
       "      <th>movie_id</th>\n",
       "      <th>movie_title</th>\n",
       "      <th>release_date</th>\n",
       "      <th>video_release_date</th>\n",
       "      <th>IMDb_URL</th>\n",
       "      <th>Action</th>\n",
       "      <th>Adventure</th>\n",
       "      <th>Animation</th>\n",
       "      <th>Childrens</th>\n",
       "      <th>Comedy</th>\n",
       "      <th>...</th>\n",
       "      <th>Film-Noir</th>\n",
       "      <th>Horror</th>\n",
       "      <th>Musical</th>\n",
       "      <th>Mystery</th>\n",
       "      <th>Romance</th>\n",
       "      <th>Sci-Fi</th>\n",
       "      <th>Thriller</th>\n",
       "      <th>War</th>\n",
       "      <th>Western</th>\n",
       "      <th>unknown</th>\n",
       "    </tr>\n",
       "  </thead>\n",
       "  <tbody>\n",
       "    <tr>\n",
       "      <th>312</th>\n",
       "      <td>313</td>\n",
       "      <td>Titanic (1997)</td>\n",
       "      <td>01-Jan-1997</td>\n",
       "      <td>NaN</td>\n",
       "      <td>http://us.imdb.com/M/title-exact?imdb-title-12...</td>\n",
       "      <td>0</td>\n",
       "      <td>1</td>\n",
       "      <td>0</td>\n",
       "      <td>0</td>\n",
       "      <td>0</td>\n",
       "      <td>...</td>\n",
       "      <td>0</td>\n",
       "      <td>0</td>\n",
       "      <td>0</td>\n",
       "      <td>0</td>\n",
       "      <td>0</td>\n",
       "      <td>1</td>\n",
       "      <td>0</td>\n",
       "      <td>0</td>\n",
       "      <td>0</td>\n",
       "      <td>0</td>\n",
       "    </tr>\n",
       "  </tbody>\n",
       "</table>\n",
       "<p>1 rows × 24 columns</p>\n",
       "</div>"
      ],
      "text/plain": [
       "     movie_id     movie_title release_date  video_release_date  \\\n",
       "312       313  Titanic (1997)  01-Jan-1997                 NaN   \n",
       "\n",
       "                                              IMDb_URL  Action  Adventure  \\\n",
       "312  http://us.imdb.com/M/title-exact?imdb-title-12...       0          1   \n",
       "\n",
       "     Animation  Childrens  Comedy  ...  Film-Noir  Horror  Musical  Mystery  \\\n",
       "312          0          0       0  ...          0       0        0        0   \n",
       "\n",
       "     Romance  Sci-Fi  Thriller  War  Western  unknown  \n",
       "312        0       1         0    0        0        0  \n",
       "\n",
       "[1 rows x 24 columns]"
      ]
     },
     "execution_count": 15,
     "metadata": {},
     "output_type": "execute_result"
    }
   ],
   "source": [
    "#Busco cual es titanic en la tabla\n",
    "peliculas[peliculas.movie_title.str.startswith('Titanic')]"
   ]
  },
  {
   "cell_type": "code",
   "execution_count": 16,
   "metadata": {},
   "outputs": [
    {
     "data": {
      "text/plain": [
       "Prediction(uid='321', iid='313', r_ui=None, est=3.748563693975022, details={'was_impossible': False})"
      ]
     },
     "execution_count": 16,
     "metadata": {},
     "output_type": "execute_result"
    }
   ],
   "source": [
    "algo.predict('321', '313')"
   ]
  },
  {
   "cell_type": "markdown",
   "metadata": {},
   "source": [
    "__Para desarrollar una función que dado un usuario, obtenga la mejor predicción disponible (de acuerdo a nuestros datos de películas), haremos lo siguiente> .__"
   ]
  },
  {
   "cell_type": "code",
   "execution_count": 17,
   "metadata": {},
   "outputs": [],
   "source": [
    "#Importamos la libreria y cargamos y levantamos el archivo\n",
    "import pandas as pd\n",
    "\n",
    "colum_names2 = ['user_id', 'item_id', 'rating', 'timestamp']\n",
    "\n",
    "ratings = pd.read_csv('C:\\\\Users\\\\soled\\\\Desktop\\\\Acamica\\\\Codigo\\\\Clase Acamica\\\\Entregas\\\\entrega6_Sistema_de_Recomendacion\\\\ml-100k\\\\u.data',header = None,names = colum_names2,sep='\\t')"
   ]
  },
  {
   "cell_type": "code",
   "execution_count": 18,
   "metadata": {},
   "outputs": [],
   "source": [
    "colum_names = ['movie_id', \"movie_title\", \"release_date\", \"video_release_date\" ,\"IMDb_URL\", 'Action', \"Adventure\", \"Animation\", \"Childrens\", \"Comedy\", \"Crime\", \"Documentary\", \"Drama\", \"Fantasy\", \"Film-Noir\", \"Horror\", \"Musical\", \"Mystery\", \"Romance\", \"Sci-Fi\", \"Thriller\", \"War\", \"Western\", \"unknown\"]\n",
    "\n",
    "peliculas = pd.read_csv('C:\\\\Users\\\\soled\\\\Desktop\\\\Acamica\\\\Codigo\\\\Clase Acamica\\\\Entregas\\\\entrega6_Sistema_de_Recomendacion\\\\ml-100k\\\\u.item',\n",
    "                        header = None,\n",
    "                        names = colum_names,\n",
    "                        encoding = 'ISO-8859-1', \n",
    "                        sep = '|')"
   ]
  },
  {
   "cell_type": "code",
   "execution_count": 19,
   "metadata": {},
   "outputs": [
    {
     "data": {
      "text/plain": [
       "114    Haunted World of Edward D. Wood Jr., The (1995)\n",
       "Name: movie_title, dtype: object"
      ]
     },
     "execution_count": 19,
     "metadata": {},
     "output_type": "execute_result"
    }
   ],
   "source": [
    "def predicciondisponible(user):\n",
    "    peliculas_vistas = ratings[ratings.user_id == user].item_id.tolist()\n",
    "    peliculas_no_vistas = pd.DataFrame({'uid': user,\n",
    "                                   'iid': peliculas[peliculas.index.isin(peliculas_vistas)==False].index})\n",
    "    prediccion_rating = []\n",
    "    for i in range(peliculas_no_vistas.shape[0]):\n",
    "        rating = gs.predict(str(user), str(peliculas_no_vistas.iid[i]))\n",
    "        prediccion_rating.append(rating.est)\n",
    "    peliculas_no_vistas['prediccion_rating'] = prediccion_rating\n",
    "    mejor_pelicula = peliculas_no_vistas[peliculas_no_vistas.prediccion_rating == peliculas_no_vistas.prediccion_rating.max()].iid\n",
    "    return peliculas[peliculas.index.isin(mejor_pelicula)].movie_title\n",
    "predicciondisponible(18)"
   ]
  }
 ],
 "metadata": {
  "kernelspec": {
   "display_name": "Python 3",
   "language": "python",
   "name": "python3"
  },
  "language_info": {
   "codemirror_mode": {
    "name": "ipython",
    "version": 3
   },
   "file_extension": ".py",
   "mimetype": "text/x-python",
   "name": "python",
   "nbconvert_exporter": "python",
   "pygments_lexer": "ipython3",
   "version": "3.7.3"
  }
 },
 "nbformat": 4,
 "nbformat_minor": 2
}
